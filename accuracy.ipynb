{
 "cells": [
  {
   "cell_type": "code",
   "execution_count": 14,
   "metadata": {},
   "outputs": [
    {
     "name": "stderr",
     "output_type": "stream",
     "text": [
      "[nltk_data] Downloading package punkt to\n",
      "[nltk_data]     C:\\Users\\pranjubindu\\AppData\\Roaming\\nltk_data...\n",
      "[nltk_data]   Package punkt is already up-to-date!\n"
     ]
    }
   ],
   "source": [
    "import pandas as pd\n",
    "import numpy as np\n",
    "import tweepy\n",
    "import seaborn as sns\n",
    "import matplotlib.pyplot as plt\n",
    "import nltk\n",
    "import re\n",
    "from nltk.corpus import stopwords\n",
    "from nltk.stem import PorterStemmer\n",
    "from nltk.stem import WordNetLemmatizer\n",
    "from sklearn.model_selection import train_test_split\n",
    "from sklearn.naive_bayes import MultinomialNB\n",
    "nltk.download('punkt')\n",
    "from sklearn.feature_extraction.text import CountVectorizer"
   ]
  },
  {
   "cell_type": "code",
   "execution_count": 15,
   "metadata": {},
   "outputs": [],
   "source": [
    "def change_text(a):\n",
    "    a=str(a)\n",
    "    text=re.sub('[^a-zA-Z]',' ',a)\n",
    "    text=text.lower()\n",
    "    text=nltk.word_tokenize(text)\n",
    "    lemmatizer=WordNetLemmatizer()\n",
    "    text=[lemmatizer.lemmatize(word) for word in text if word not in stopwords.words('english')]\n",
    "    text=' '.join(text)\n",
    "    return text"
   ]
  },
  {
   "cell_type": "code",
   "execution_count": 16,
   "metadata": {},
   "outputs": [
    {
     "name": "stdout",
     "output_type": "stream",
     "text": [
      "                                               tweet  label\n",
      "0  when modi promised âminimum government maxim...   -1.0\n",
      "1  talk all the nonsense and continue all the dra...    0.0\n",
      "2  what did just say vote for modi  welcome bjp t...    1.0\n",
      "3  asking his supporters prefix chowkidar their n...    1.0\n",
      "4  answer who among these the most powerful world...    1.0\n"
     ]
    }
   ],
   "source": [
    "df= pd.read_csv('Twitter_Data.csv',encoding='latin-1')\n",
    "print(df.head())"
   ]
  },
  {
   "cell_type": "code",
   "execution_count": 17,
   "metadata": {},
   "outputs": [
    {
     "data": {
      "text/plain": [
       "tweet    4\n",
       "label    7\n",
       "dtype: int64"
      ]
     },
     "execution_count": 17,
     "metadata": {},
     "output_type": "execute_result"
    }
   ],
   "source": [
    "df.isnull().sum()"
   ]
  },
  {
   "cell_type": "code",
   "execution_count": 18,
   "metadata": {},
   "outputs": [
    {
     "data": {
      "text/html": [
       "<div>\n",
       "<style scoped>\n",
       "    .dataframe tbody tr th:only-of-type {\n",
       "        vertical-align: middle;\n",
       "    }\n",
       "\n",
       "    .dataframe tbody tr th {\n",
       "        vertical-align: top;\n",
       "    }\n",
       "\n",
       "    .dataframe thead th {\n",
       "        text-align: right;\n",
       "    }\n",
       "</style>\n",
       "<table border=\"1\" class=\"dataframe\">\n",
       "  <thead>\n",
       "    <tr style=\"text-align: right;\">\n",
       "      <th></th>\n",
       "      <th>tweet</th>\n",
       "      <th>label</th>\n",
       "    </tr>\n",
       "  </thead>\n",
       "  <tbody>\n",
       "    <tr>\n",
       "      <th>0</th>\n",
       "      <td>modi promised minimum government maximum gover...</td>\n",
       "      <td>-1.0</td>\n",
       "    </tr>\n",
       "    <tr>\n",
       "      <th>1</th>\n",
       "      <td>talk nonsense continue drama vote modi</td>\n",
       "      <td>0.0</td>\n",
       "    </tr>\n",
       "    <tr>\n",
       "      <th>2</th>\n",
       "      <td>say vote modi welcome bjp told rahul main camp...</td>\n",
       "      <td>1.0</td>\n",
       "    </tr>\n",
       "    <tr>\n",
       "      <th>3</th>\n",
       "      <td>asking supporter prefix chowkidar name modi gr...</td>\n",
       "      <td>1.0</td>\n",
       "    </tr>\n",
       "    <tr>\n",
       "      <th>4</th>\n",
       "      <td>answer among powerful world leader today trump...</td>\n",
       "      <td>1.0</td>\n",
       "    </tr>\n",
       "  </tbody>\n",
       "</table>\n",
       "</div>"
      ],
      "text/plain": [
       "                                               tweet  label\n",
       "0  modi promised minimum government maximum gover...   -1.0\n",
       "1             talk nonsense continue drama vote modi    0.0\n",
       "2  say vote modi welcome bjp told rahul main camp...    1.0\n",
       "3  asking supporter prefix chowkidar name modi gr...    1.0\n",
       "4  answer among powerful world leader today trump...    1.0"
      ]
     },
     "execution_count": 18,
     "metadata": {},
     "output_type": "execute_result"
    }
   ],
   "source": [
    "df['tweet']=df['tweet'].apply(change_text)\n",
    "df.head()"
   ]
  },
  {
   "cell_type": "code",
   "execution_count": 19,
   "metadata": {},
   "outputs": [
    {
     "data": {
      "text/plain": [
       "<matplotlib.axes._subplots.AxesSubplot at 0x1fb17885910>"
      ]
     },
     "execution_count": 19,
     "metadata": {},
     "output_type": "execute_result"
    },
    {
     "data": {
      "image/png": "[encoded data removed]",
      "text/plain": [
       "<Figure size 432x288 with 1 Axes>"
      ]
     },
     "metadata": {
      "needs_background": "light"
     },
     "output_type": "display_data"
    }
   ],
   "source": [
    "#df['label']\n",
    "df['label'].value_counts()\n",
    "sns.countplot('label',data=df)"
   ]
  },
  {
   "cell_type": "code",
   "execution_count": 20,
   "metadata": {},
   "outputs": [],
   "source": [
    "df = df.dropna()\n",
    "cf=CountVectorizer()\n",
    "X1=cf.fit_transform(df['tweet'].values.astype('U'))\n",
    "y=df['label']"
   ]
  },
  {
   "cell_type": "code",
   "execution_count": 21,
   "metadata": {},
   "outputs": [
    {
     "name": "stdout",
     "output_type": "stream",
     "text": [
      "(114081, 95536)\n",
      "(114081,)\n",
      "(48892,)\n",
      "(48892, 95536)\n"
     ]
    }
   ],
   "source": [
    "x_train,x_test,y_train,y_test=train_test_split(X1,y,test_size=0.3,random_state=42)\n",
    "print(x_train.shape)\n",
    "print(y_train.shape)\n",
    "print(y_test.shape)\n",
    "print(x_test.shape)"
   ]
  },
  {
   "cell_type": "code",
   "execution_count": 22,
   "metadata": {},
   "outputs": [],
   "source": [
    "nb=MultinomialNB()"
   ]
  },
  {
   "cell_type": "code",
   "execution_count": 23,
   "metadata": {},
   "outputs": [
    {
     "data": {
      "text/plain": [
       "MultinomialNB()"
      ]
     },
     "execution_count": 23,
     "metadata": {},
     "output_type": "execute_result"
    }
   ],
   "source": [
    "nb.fit(x_train,y_train)"
   ]
  },
  {
   "cell_type": "code",
   "execution_count": 24,
   "metadata": {},
   "outputs": [],
   "source": [
    "prediction=nb.predict(x_test)"
   ]
  },
  {
   "cell_type": "code",
   "execution_count": 25,
   "metadata": {},
   "outputs": [
    {
     "name": "stdout",
     "output_type": "stream",
     "text": [
      "              precision    recall  f1-score   support\n",
      "\n",
      "        -1.0       0.71      0.58      0.64     10797\n",
      "         0.0       0.85      0.57      0.68     16430\n",
      "         1.0       0.66      0.88      0.76     21665\n",
      "\n",
      "    accuracy                           0.71     48892\n",
      "   macro avg       0.74      0.68      0.69     48892\n",
      "weighted avg       0.73      0.71      0.70     48892\n",
      "\n",
      "0.7112001963511413\n"
     ]
    }
   ],
   "source": [
    "from sklearn.metrics import classification_report\n",
    "from sklearn.metrics import accuracy_score\n",
    "print(classification_report(y_test,prediction))\n",
    "print(accuracy_score(y_test,prediction))"
   ]
  },
  {
   "cell_type": "code",
   "execution_count": 26,
   "metadata": {},
   "outputs": [],
   "source": [
    "accessToken=\"1272053768067010562-u4eunjqdSTtiE68q2J0x2NceCY4Jwx\"\n",
    "accessTokenSecret=\"8FZbdPVlqW1T5LhL2blrXzJgH9PXcty6wvHW0NFRqiHTR\"\n",
    "consumerKey=\"F0w2fjOVn4EUAH0MIjhA6lbDY\"\n",
    "consumerKeySecret=\"Bz5BJwUxx6GlSA7AtENuoXPAfV16UkMTSBngquicAh9PyEuBAX\""
   ]
  },
  {
   "cell_type": "code",
   "execution_count": 27,
   "metadata": {},
   "outputs": [],
   "source": [
    "auth=tweepy.OAuthHandler(consumerKey,consumerKeySecret)\n",
    "auth.set_access_token(accessToken,accessTokenSecret)\n",
    "api=tweepy.API(auth)"
   ]
  },
  {
   "cell_type": "code",
   "execution_count": 28,
   "metadata": {},
   "outputs": [],
   "source": [
    "def cleanText(text):\n",
    "    text=re.sub('https?://[^\\s]+','URL',text)\n",
    "    text=re.sub('@[^\\s]+','',text)\n",
    "    text=re.sub(r'#','',text)\n",
    "    text=re.sub(r'RT[\\s]','',text)\n",
    "    text=re.sub('\\n',\"\",text)\n",
    "    return text"
   ]
  },
  {
   "cell_type": "code",
   "execution_count": 29,
   "metadata": {},
   "outputs": [
    {
     "name": "stdout",
     "output_type": "stream",
     "text": [
      "How many tweets to analyze20\n",
      "Topic:exams\n"
     ]
    }
   ],
   "source": [
    "numOfTweets= int(input('How many tweets to analyze'))\n",
    "searchWord=input(\"Topic:\")\n",
    "date_since=\"2020-03-10\"\n",
    "tweets=tweepy.Cursor(api.search, q=searchWord, lang='en',since=date_since,tweet_mode=\"extended\").items(numOfTweets)"
   ]
  },
  {
   "cell_type": "code",
   "execution_count": 30,
   "metadata": {},
   "outputs": [
    {
     "name": "stdout",
     "output_type": "stream",
     "text": [
      "                                               Tweets\n",
      "0    In my 12th exams, I got 24 marks in Chemistry...\n",
      "1   We are feeling triumphant Man dancing💃🏻, jubil...\n",
      "2    This is so unfair that only medical student a...\n",
      "3    The department of Higher Education has heard ...\n",
      "4    In my 12th exams, I got 24 marks in Chemistry...\n",
      "5     Its injustice some students passed without e...\n",
      "6    It's Injustice some students passed without e...\n",
      "7    loadshedding during a global pandemic in the ...\n",
      "8    In my 12th exams, I got 24 marks in Chemistry...\n",
      "9    Congratulations to you too... DAMN Bro!!! Sid...\n",
      "10   This is so unfair that only medical student a...\n",
      "11   Congratulations Chhote!!!  for scoring 90.2% ...\n",
      "12   No compartment exams For just 4 marks got com...\n",
      "13   Kailahun School Leaders learning how to repor...\n",
      "14    Studies are showing that 30% of pediatric pa...\n",
      "15   Promote Medical Students Too .We’re not again...\n",
      "16   Hui: During middle school exams, on the first...\n",
      "17   This is so unfair that only medical student a...\n",
      "18  We are pleased to announce iSQI has been selec...\n",
      "19      sir considering the current circumstances ...\n"
     ]
    }
   ],
   "source": [
    "df_user_tweets=pd.DataFrame([tweet.full_text for tweet in tweets],columns=['Tweets'])\n",
    "df_user_tweets['Tweets']=df_user_tweets['Tweets'].apply(cleanText)\n",
    "#df['Polarity']=df['Tweets'].apply(getPolarity)\n",
    "#df['Subjectivity']=df['Tweets'].apply(getSubjectivity)\n",
    "#df['Analysis']=df['Polarity'].apply(getAnalysis)\n",
    "print(df_user_tweets)"
   ]
  },
  {
   "cell_type": "code",
   "execution_count": 31,
   "metadata": {},
   "outputs": [],
   "source": [
    "def predict(message):\n",
    "    if(nb.predict(cf.transform([change_text(message)]))==1):\n",
    "        return 'Positive'\n",
    "    elif(nb.predict(cf.transform([change_text(message)]))==0):\n",
    "        return 'Neutral'\n",
    "    else:\n",
    "        return 'Negavite'"
   ]
  },
  {
   "cell_type": "code",
   "execution_count": 32,
   "metadata": {},
   "outputs": [],
   "source": [
    "df_user_tweets['Analysis']=df_user_tweets['Tweets'].apply(predict)"
   ]
  },
  {
   "cell_type": "code",
   "execution_count": 33,
   "metadata": {},
   "outputs": [
    {
     "data": {
      "text/html": [
       "<div>\n",
       "<style scoped>\n",
       "    .dataframe tbody tr th:only-of-type {\n",
       "        vertical-align: middle;\n",
       "    }\n",
       "\n",
       "    .dataframe tbody tr th {\n",
       "        vertical-align: top;\n",
       "    }\n",
       "\n",
       "    .dataframe thead th {\n",
       "        text-align: right;\n",
       "    }\n",
       "</style>\n",
       "<table border=\"1\" class=\"dataframe\">\n",
       "  <thead>\n",
       "    <tr style=\"text-align: right;\">\n",
       "      <th></th>\n",
       "      <th>Tweets</th>\n",
       "      <th>Analysis</th>\n",
       "    </tr>\n",
       "  </thead>\n",
       "  <tbody>\n",
       "    <tr>\n",
       "      <th>0</th>\n",
       "      <td>In my 12th exams, I got 24 marks in Chemistry...</td>\n",
       "      <td>Positive</td>\n",
       "    </tr>\n",
       "    <tr>\n",
       "      <th>1</th>\n",
       "      <td>We are feeling triumphant Man dancing💃🏻, jubil...</td>\n",
       "      <td>Positive</td>\n",
       "    </tr>\n",
       "    <tr>\n",
       "      <th>2</th>\n",
       "      <td>This is so unfair that only medical student a...</td>\n",
       "      <td>Positive</td>\n",
       "    </tr>\n",
       "    <tr>\n",
       "      <th>3</th>\n",
       "      <td>The department of Higher Education has heard ...</td>\n",
       "      <td>Positive</td>\n",
       "    </tr>\n",
       "    <tr>\n",
       "      <th>4</th>\n",
       "      <td>In my 12th exams, I got 24 marks in Chemistry...</td>\n",
       "      <td>Positive</td>\n",
       "    </tr>\n",
       "    <tr>\n",
       "      <th>5</th>\n",
       "      <td>Its injustice some students passed without e...</td>\n",
       "      <td>Neutral</td>\n",
       "    </tr>\n",
       "    <tr>\n",
       "      <th>6</th>\n",
       "      <td>It's Injustice some students passed without e...</td>\n",
       "      <td>Neutral</td>\n",
       "    </tr>\n",
       "    <tr>\n",
       "      <th>7</th>\n",
       "      <td>loadshedding during a global pandemic in the ...</td>\n",
       "      <td>Negavite</td>\n",
       "    </tr>\n",
       "    <tr>\n",
       "      <th>8</th>\n",
       "      <td>In my 12th exams, I got 24 marks in Chemistry...</td>\n",
       "      <td>Positive</td>\n",
       "    </tr>\n",
       "    <tr>\n",
       "      <th>9</th>\n",
       "      <td>Congratulations to you too... DAMN Bro!!! Sid...</td>\n",
       "      <td>Positive</td>\n",
       "    </tr>\n",
       "    <tr>\n",
       "      <th>10</th>\n",
       "      <td>This is so unfair that only medical student a...</td>\n",
       "      <td>Positive</td>\n",
       "    </tr>\n",
       "    <tr>\n",
       "      <th>11</th>\n",
       "      <td>Congratulations Chhote!!!  for scoring 90.2% ...</td>\n",
       "      <td>Neutral</td>\n",
       "    </tr>\n",
       "    <tr>\n",
       "      <th>12</th>\n",
       "      <td>No compartment exams For just 4 marks got com...</td>\n",
       "      <td>Negavite</td>\n",
       "    </tr>\n",
       "    <tr>\n",
       "      <th>13</th>\n",
       "      <td>Kailahun School Leaders learning how to repor...</td>\n",
       "      <td>Positive</td>\n",
       "    </tr>\n",
       "    <tr>\n",
       "      <th>14</th>\n",
       "      <td>Studies are showing that 30% of pediatric pa...</td>\n",
       "      <td>Negavite</td>\n",
       "    </tr>\n",
       "    <tr>\n",
       "      <th>15</th>\n",
       "      <td>Promote Medical Students Too .We’re not again...</td>\n",
       "      <td>Positive</td>\n",
       "    </tr>\n",
       "    <tr>\n",
       "      <th>16</th>\n",
       "      <td>Hui: During middle school exams, on the first...</td>\n",
       "      <td>Positive</td>\n",
       "    </tr>\n",
       "    <tr>\n",
       "      <th>17</th>\n",
       "      <td>This is so unfair that only medical student a...</td>\n",
       "      <td>Positive</td>\n",
       "    </tr>\n",
       "    <tr>\n",
       "      <th>18</th>\n",
       "      <td>We are pleased to announce iSQI has been selec...</td>\n",
       "      <td>Positive</td>\n",
       "    </tr>\n",
       "    <tr>\n",
       "      <th>19</th>\n",
       "      <td>sir considering the current circumstances ...</td>\n",
       "      <td>Neutral</td>\n",
       "    </tr>\n",
       "  </tbody>\n",
       "</table>\n",
       "</div>"
      ],
      "text/plain": [
       "                                               Tweets  Analysis\n",
       "0    In my 12th exams, I got 24 marks in Chemistry...  Positive\n",
       "1   We are feeling triumphant Man dancing💃🏻, jubil...  Positive\n",
       "2    This is so unfair that only medical student a...  Positive\n",
       "3    The department of Higher Education has heard ...  Positive\n",
       "4    In my 12th exams, I got 24 marks in Chemistry...  Positive\n",
       "5     Its injustice some students passed without e...   Neutral\n",
       "6    It's Injustice some students passed without e...   Neutral\n",
       "7    loadshedding during a global pandemic in the ...  Negavite\n",
       "8    In my 12th exams, I got 24 marks in Chemistry...  Positive\n",
       "9    Congratulations to you too... DAMN Bro!!! Sid...  Positive\n",
       "10   This is so unfair that only medical student a...  Positive\n",
       "11   Congratulations Chhote!!!  for scoring 90.2% ...   Neutral\n",
       "12   No compartment exams For just 4 marks got com...  Negavite\n",
       "13   Kailahun School Leaders learning how to repor...  Positive\n",
       "14    Studies are showing that 30% of pediatric pa...  Negavite\n",
       "15   Promote Medical Students Too .We’re not again...  Positive\n",
       "16   Hui: During middle school exams, on the first...  Positive\n",
       "17   This is so unfair that only medical student a...  Positive\n",
       "18  We are pleased to announce iSQI has been selec...  Positive\n",
       "19      sir considering the current circumstances ...   Neutral"
      ]
     },
     "execution_count": 33,
     "metadata": {},
     "output_type": "execute_result"
    }
   ],
   "source": [
    "df_user_tweets.head(20)"
   ]
  },
  {
   "cell_type": "code",
   "execution_count": null,
   "metadata": {},
   "outputs": [],
   "source": []
  }
 ],
 "metadata": {
  "kernelspec": {
   "display_name": "Python 3",
   "language": "python",
   "name": "python3"
  },
  "language_info": {
   "codemirror_mode": {
    "name": "ipython",
    "version": 3
   },
   "file_extension": ".py",
   "mimetype": "text/x-python",
   "name": "python",
   "nbconvert_exporter": "python",
   "pygments_lexer": "ipython3",
   "version": "3.8.1"
  }
 },
 "nbformat": 4,
 "nbformat_minor": 4
}
